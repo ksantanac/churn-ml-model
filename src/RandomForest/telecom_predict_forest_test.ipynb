{
 "cells": [
  {
   "cell_type": "code",
   "execution_count": 1,
   "id": "6b83678d",
   "metadata": {},
   "outputs": [],
   "source": [
    "import joblib\n",
    "import pandas as pd\n",
    "import random\n",
    "\n",
    "from faker import Faker"
   ]
  },
  {
   "cell_type": "code",
   "execution_count": 3,
   "id": "e9d48add",
   "metadata": {},
   "outputs": [
    {
     "name": "stdout",
     "output_type": "stream",
     "text": [
      "    gender  tenure  MonthlyCharges  TotalCharges  Churn_Pred  Churn_Prob\n",
      "0   Female      41           31.08       1274.28           0    0.325839\n",
      "1   Female      35           91.35       3197.25           0    0.221967\n",
      "2   Female      32          108.58       3474.56           0    0.244941\n",
      "3   Female      24           66.88       1605.12           0    0.385912\n",
      "4   Female      12           98.10       1177.20           0    0.469541\n",
      "5   Female      62           24.87       1541.94           0    0.115937\n",
      "6   Female      56          109.24       6117.44           0    0.200393\n",
      "7   Female      58           65.34       3789.72           0    0.037006\n",
      "8   Female       1           31.52         31.52           1    0.609131\n",
      "9   Female      61           77.18       4707.98           0    0.050668\n",
      "10    Male      19          111.77       2123.63           0    0.353579\n",
      "11  Female      40           43.89       1755.60           0    0.093053\n",
      "12  Female      19           85.79       1630.01           0    0.270720\n",
      "13  Female       3          111.39        334.17           1    0.595315\n",
      "14  Female      29           21.56        625.24           0    0.181472\n",
      "15    Male      58           72.28       4192.24           0    0.035730\n",
      "16    Male      64          114.50       7328.00           0    0.241075\n",
      "17  Female      19           32.21        611.99           0    0.105200\n",
      "18    Male       3           57.61        172.83           0    0.411705\n",
      "19  Female      63          108.70       6848.10           0    0.079741\n"
     ]
    }
   ],
   "source": [
    "fake = Faker()\n",
    "\n",
    "# Carregar pipeline\n",
    "pipeline = joblib.load(\"pipeline_churn.pkl\")\n",
    "\n",
    "# Função para gerar dados de cliente\n",
    "def gerar_cliente():\n",
    "    tenure = random.randint(0, 72)\n",
    "    monthly = round(random.uniform(20, 120), 2)\n",
    "    total = round(monthly * tenure, 2)  # TotalCharges\n",
    "    return {\n",
    "        \"gender\": random.choice([\"Male\", \"Female\"]),\n",
    "        \"SeniorCitizen\": random.choice([0, 1]),\n",
    "        \"Partner\": random.choice([0, 1]),\n",
    "        \"Dependents\": random.choice([0, 1]),\n",
    "        \"tenure\": tenure,\n",
    "        \"PhoneService\": random.choice([0, 1]),\n",
    "        \"MultipleLines\": random.choice([\"No\", \"Yes\", \"No phone service\"]),\n",
    "        \"InternetService\": random.choice([\"DSL\", \"Fiber optic\", \"No\"]),\n",
    "        \"OnlineSecurity\": random.choice([\"Yes\", \"No\", \"No internet service\"]),\n",
    "        \"OnlineBackup\": random.choice([\"Yes\", \"No\", \"No internet service\"]),\n",
    "        \"DeviceProtection\": random.choice([\"Yes\", \"No\", \"No internet service\"]),\n",
    "        \"TechSupport\": random.choice([\"Yes\", \"No\", \"No internet service\"]),\n",
    "        \"StreamingTV\": random.choice([\"Yes\", \"No\", \"No internet service\"]),\n",
    "        \"StreamingMovies\": random.choice([\"Yes\", \"No\", \"No internet service\"]),\n",
    "        \"Contract\": random.choice([\"Month-to-month\", \"One year\", \"Two year\"]),\n",
    "        \"PaperlessBilling\": random.choice([0, 1]),\n",
    "        \"PaymentMethod\": random.choice([\n",
    "            \"Electronic check\", \"Mailed check\", \"Bank transfer (automatic)\", \"Credit card (automatic)\"\n",
    "        ]),\n",
    "        \"MonthlyCharges\": monthly,\n",
    "        \"TotalCharges\": total\n",
    "    }\n",
    "\n",
    "# Gerar múltiplos clientes\n",
    "clientes = [gerar_cliente() for _ in range(20)]\n",
    "df_novo = pd.DataFrame(clientes)\n",
    "\n",
    "# Previsão\n",
    "pred = pipeline.predict(df_novo)\n",
    "proba = pipeline.predict_proba(df_novo)[:, 1]\n",
    "\n",
    "# Mostrar resultados\n",
    "df_novo[\"Churn_Pred\"] = pred\n",
    "df_novo[\"Churn_Prob\"] = proba\n",
    "\n",
    "print(df_novo[[\"gender\", \"tenure\", \"MonthlyCharges\", \"TotalCharges\", \"Churn_Pred\", \"Churn_Prob\"]])\n",
    "\n"
   ]
  },
  {
   "cell_type": "code",
   "execution_count": null,
   "id": "cb576bfe",
   "metadata": {},
   "outputs": [],
   "source": []
  }
 ],
 "metadata": {
  "kernelspec": {
   "display_name": "env",
   "language": "python",
   "name": "python3"
  },
  "language_info": {
   "codemirror_mode": {
    "name": "ipython",
    "version": 3
   },
   "file_extension": ".py",
   "mimetype": "text/x-python",
   "name": "python",
   "nbconvert_exporter": "python",
   "pygments_lexer": "ipython3",
   "version": "3.12.7"
  }
 },
 "nbformat": 4,
 "nbformat_minor": 5
}
